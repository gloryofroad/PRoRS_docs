{
 "cells": [
  {
   "cell_type": "markdown",
   "metadata": {},
   "source": [
    "# 8.5 RCNN系列推荐阅读"
   ]
  },
  {
   "cell_type": "markdown",
   "metadata": {},
   "source": [
    "RCNN系列的目标检测方法是经典的Two Stage方法，优先推荐同学们阅读该系列的论文。此外，为了帮助大家理解，下文为大家推荐部分内容较好的中文博客。"
   ]
  },
  {
   "cell_type": "markdown",
   "metadata": {},
   "source": [
    "[一文读懂Faster RCNN](https://zhuanlan.zhihu.com/p/31426458)  \n",
    "[关于目标检测 Object detection](https://www.cnblogs.com/Ann21/p/9779514.html)  \n",
    "[彻底理解Faster R-CNN内涵，以及目标检测](https://zhuanlan.zhihu.com/p/107583433)"
   ]
  },
  {
   "cell_type": "code",
   "execution_count": null,
   "metadata": {},
   "outputs": [],
   "source": []
  }
 ],
 "metadata": {
  "kernelspec": {
   "display_name": "Python 3",
   "language": "python",
   "name": "python3"
  },
  "language_info": {
   "codemirror_mode": {
    "name": "ipython",
    "version": 3
   },
   "file_extension": ".py",
   "mimetype": "text/x-python",
   "name": "python",
   "nbconvert_exporter": "python",
   "pygments_lexer": "ipython3",
   "version": "3.6.7"
  }
 },
 "nbformat": 4,
 "nbformat_minor": 4
}
